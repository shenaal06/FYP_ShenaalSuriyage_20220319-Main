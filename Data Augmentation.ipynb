{
 "cells": [
  {
   "cell_type": "code",
   "execution_count": 1,
   "id": "2de1817b",
   "metadata": {},
   "outputs": [
    {
     "name": "stdout",
     "output_type": "stream",
     "text": [
      "Requirement already satisfied: sdv in d:\\downloads\\anaconda\\lib\\site-packages (1.23.0)\n",
      "Requirement already satisfied: boto3<2.0.0,>=1.28 in d:\\downloads\\anaconda\\lib\\site-packages (from sdv) (1.39.0)\n",
      "Requirement already satisfied: botocore<2.0.0,>=1.31 in d:\\downloads\\anaconda\\lib\\site-packages (from sdv) (1.39.0)\n",
      "Requirement already satisfied: cloudpickle>=2.1.0 in d:\\downloads\\anaconda\\lib\\site-packages (from sdv) (3.0.0)\n",
      "Requirement already satisfied: graphviz>=0.13.2 in d:\\downloads\\anaconda\\lib\\site-packages (from sdv) (0.21)\n",
      "Requirement already satisfied: numpy>=2.1.0 in d:\\downloads\\anaconda\\lib\\site-packages (from sdv) (2.1.3)\n",
      "Requirement already satisfied: pandas>=2.2.3 in d:\\downloads\\anaconda\\lib\\site-packages (from sdv) (2.2.3)\n",
      "Requirement already satisfied: tqdm>=4.29 in d:\\downloads\\anaconda\\lib\\site-packages (from sdv) (4.67.1)\n",
      "Requirement already satisfied: copulas>=0.12.1 in d:\\downloads\\anaconda\\lib\\site-packages (from sdv) (0.12.3)\n",
      "Requirement already satisfied: ctgan>=0.11.0 in d:\\downloads\\anaconda\\lib\\site-packages (from sdv) (0.11.0)\n",
      "Requirement already satisfied: deepecho>=0.7.0 in d:\\downloads\\anaconda\\lib\\site-packages (from sdv) (0.7.0)\n",
      "Requirement already satisfied: rdt>=1.17.0 in d:\\downloads\\anaconda\\lib\\site-packages (from sdv) (1.17.1)\n",
      "Requirement already satisfied: sdmetrics>=0.21.0 in d:\\downloads\\anaconda\\lib\\site-packages (from sdv) (0.21.0)\n",
      "Requirement already satisfied: platformdirs>=4.0 in d:\\downloads\\anaconda\\lib\\site-packages (from sdv) (4.3.7)\n",
      "Requirement already satisfied: pyyaml>=6.0.1 in d:\\downloads\\anaconda\\lib\\site-packages (from sdv) (6.0.2)\n",
      "Requirement already satisfied: jmespath<2.0.0,>=0.7.1 in d:\\downloads\\anaconda\\lib\\site-packages (from boto3<2.0.0,>=1.28->sdv) (1.0.1)\n",
      "Requirement already satisfied: s3transfer<0.14.0,>=0.13.0 in d:\\downloads\\anaconda\\lib\\site-packages (from boto3<2.0.0,>=1.28->sdv) (0.13.0)\n",
      "Requirement already satisfied: python-dateutil<3.0.0,>=2.1 in d:\\downloads\\anaconda\\lib\\site-packages (from botocore<2.0.0,>=1.31->sdv) (2.9.0.post0)\n",
      "Requirement already satisfied: urllib3!=2.2.0,<3,>=1.25.4 in d:\\downloads\\anaconda\\lib\\site-packages (from botocore<2.0.0,>=1.31->sdv) (2.3.0)\n",
      "Requirement already satisfied: six>=1.5 in d:\\downloads\\anaconda\\lib\\site-packages (from python-dateutil<3.0.0,>=2.1->botocore<2.0.0,>=1.31->sdv) (1.17.0)\n",
      "Requirement already satisfied: plotly>=5.12.0 in d:\\downloads\\anaconda\\lib\\site-packages (from copulas>=0.12.1->sdv) (5.24.1)\n",
      "Requirement already satisfied: scipy>=1.14.1 in d:\\downloads\\anaconda\\lib\\site-packages (from copulas>=0.12.1->sdv) (1.15.3)\n",
      "Requirement already satisfied: torch>=2.6.0 in d:\\downloads\\anaconda\\lib\\site-packages (from ctgan>=0.11.0->sdv) (2.7.1)\n",
      "Requirement already satisfied: colorama in d:\\downloads\\anaconda\\lib\\site-packages (from tqdm>=4.29->sdv) (0.4.6)\n",
      "Requirement already satisfied: pytz>=2020.1 in d:\\downloads\\anaconda\\lib\\site-packages (from pandas>=2.2.3->sdv) (2024.1)\n",
      "Requirement already satisfied: tzdata>=2022.7 in d:\\downloads\\anaconda\\lib\\site-packages (from pandas>=2.2.3->sdv) (2025.2)\n",
      "Requirement already satisfied: tenacity>=6.2.0 in d:\\downloads\\anaconda\\lib\\site-packages (from plotly>=5.12.0->copulas>=0.12.1->sdv) (9.0.0)\n",
      "Requirement already satisfied: packaging in d:\\downloads\\anaconda\\lib\\site-packages (from plotly>=5.12.0->copulas>=0.12.1->sdv) (24.2)\n",
      "Requirement already satisfied: scikit-learn>=1.5.2 in d:\\downloads\\anaconda\\lib\\site-packages (from rdt>=1.17.0->sdv) (1.6.1)\n",
      "Requirement already satisfied: Faker>=17 in d:\\downloads\\anaconda\\lib\\site-packages (from rdt>=1.17.0->sdv) (37.4.0)\n",
      "Requirement already satisfied: joblib>=1.2.0 in d:\\downloads\\anaconda\\lib\\site-packages (from scikit-learn>=1.5.2->rdt>=1.17.0->sdv) (1.4.2)\n",
      "Requirement already satisfied: threadpoolctl>=3.1.0 in d:\\downloads\\anaconda\\lib\\site-packages (from scikit-learn>=1.5.2->rdt>=1.17.0->sdv) (3.5.0)\n",
      "Requirement already satisfied: filelock in d:\\downloads\\anaconda\\lib\\site-packages (from torch>=2.6.0->ctgan>=0.11.0->sdv) (3.17.0)\n",
      "Requirement already satisfied: typing-extensions>=4.10.0 in d:\\downloads\\anaconda\\lib\\site-packages (from torch>=2.6.0->ctgan>=0.11.0->sdv) (4.12.2)\n",
      "Requirement already satisfied: sympy>=1.13.3 in d:\\downloads\\anaconda\\lib\\site-packages (from torch>=2.6.0->ctgan>=0.11.0->sdv) (1.13.3)\n",
      "Requirement already satisfied: networkx in d:\\downloads\\anaconda\\lib\\site-packages (from torch>=2.6.0->ctgan>=0.11.0->sdv) (3.4.2)\n",
      "Requirement already satisfied: jinja2 in d:\\downloads\\anaconda\\lib\\site-packages (from torch>=2.6.0->ctgan>=0.11.0->sdv) (3.1.6)\n",
      "Requirement already satisfied: fsspec in d:\\downloads\\anaconda\\lib\\site-packages (from torch>=2.6.0->ctgan>=0.11.0->sdv) (2025.3.2)\n",
      "Requirement already satisfied: setuptools in d:\\downloads\\anaconda\\lib\\site-packages (from torch>=2.6.0->ctgan>=0.11.0->sdv) (72.1.0)\n",
      "Requirement already satisfied: mpmath<1.4,>=1.1.0 in d:\\downloads\\anaconda\\lib\\site-packages (from sympy>=1.13.3->torch>=2.6.0->ctgan>=0.11.0->sdv) (1.3.0)\n",
      "Requirement already satisfied: MarkupSafe>=2.0 in d:\\downloads\\anaconda\\lib\\site-packages (from jinja2->torch>=2.6.0->ctgan>=0.11.0->sdv) (3.0.2)\n"
     ]
    }
   ],
   "source": [
    "!pip install sdv"
   ]
  },
  {
   "cell_type": "code",
   "execution_count": 2,
   "id": "9afba995",
   "metadata": {},
   "outputs": [],
   "source": [
    "import pandas as pd\n",
    "from sdv.metadata import SingleTableMetadata\n",
    "from sdv.lite import SingleTablePreset"
   ]
  },
  {
   "cell_type": "code",
   "execution_count": 3,
   "id": "6d22de76-793f-4e81-91d7-8be055e060cf",
   "metadata": {},
   "outputs": [],
   "source": [
    "expandedwithGAN_dataset = pd.read_excel(\"Pre-ProcessedafterScalingandEncoding_OL_ST_R.xlsx\")"
   ]
  },
  {
   "cell_type": "code",
   "execution_count": 4,
   "id": "6dc0a5b7-b32e-4856-8902-6b10a524a469",
   "metadata": {},
   "outputs": [],
   "source": [
    "expandedwithGAN_dataset = expandedwithGAN_dataset.drop(columns=['Drug Name'], errors='ignore')"
   ]
  },
  {
   "cell_type": "code",
   "execution_count": 5,
   "id": "97f56fbe-9710-4300-a13f-4522d9080e72",
   "metadata": {},
   "outputs": [],
   "source": [
    "if 'expired date' in expandedwithGAN_dataset.columns:\n",
    "    expandedwithGAN_dataset['expired_month'] = pd.to_datetime(expandedwithGAN_dataset['expired date'], errors='coerce').dt.month\n",
    "    expandedwithGAN_dataset['expired_year'] = pd.to_datetime(expandedwithGAN_dataset['expired date'], errors='coerce').dt.year\n",
    "    expandedwithGAN_dataset = expandedwithGAN_dataset.drop(columns=['expired date'])"
   ]
  },
  {
   "cell_type": "code",
   "execution_count": 6,
   "id": "f6e114f9-6d81-4892-8b69-1cba86f999d7",
   "metadata": {},
   "outputs": [],
   "source": [
    "expandedwithGAN_dataset = expandedwithGAN_dataset.drop(columns=['synthetic'], errors='ignore')\n",
    "expandedwithGAN_dataset.dropna(inplace=True)"
   ]
  },
  {
   "cell_type": "code",
   "execution_count": 7,
   "id": "94a4b237-dccd-4595-a21a-2f739ff852e8",
   "metadata": {},
   "outputs": [],
   "source": [
    "metadata_dataset = SingleTableMetadata()\n",
    "metadata_dataset.detect_from_dataframe(data=expandedwithGAN_dataset)"
   ]
  },
  {
   "cell_type": "code",
   "execution_count": 8,
   "id": "502a5221-cf1d-42cd-86da-1f07e802efff",
   "metadata": {},
   "outputs": [
    {
     "name": "stderr",
     "output_type": "stream",
     "text": [
      "D:\\Downloads\\Anaconda\\Lib\\site-packages\\sdv\\lite\\single_table.py:52: FutureWarning: The 'SingleTablePreset' is deprecated. For equivalent Fast ML functionality, please use the 'GaussianCopulaSynthesizer'.\n",
      "  warnings.warn(DEPRECATION_MSG, FutureWarning)\n",
      "D:\\Downloads\\Anaconda\\Lib\\site-packages\\sdv\\lite\\single_table.py:61: FutureWarning: The 'SingleTableMetadata' is deprecated. Please use the new 'Metadata' class for synthesizers.\n",
      "  warnings.warn(META_DEPRECATION_MSG, FutureWarning)\n",
      "D:\\Downloads\\Anaconda\\Lib\\site-packages\\sdv\\single_table\\base.py:162: FutureWarning: The 'SingleTableMetadata' is deprecated. Please use the new 'Metadata' class for synthesizers.\n",
      "  warnings.warn(DEPRECATION_MSG, FutureWarning)\n",
      "D:\\Downloads\\Anaconda\\Lib\\site-packages\\sdv\\single_table\\base.py:128: UserWarning: We strongly recommend saving the metadata using 'save_to_json' for replicability in future SDV versions.\n",
      "  warnings.warn(\n",
      "D:\\Downloads\\Anaconda\\Lib\\site-packages\\sdv\\lite\\single_table.py:88: FutureWarning: The 'SingleTablePreset' is deprecated. For equivalent Fast ML functionality, please use the 'GaussianCopulaSynthesizer'.\n",
      "  warnings.warn(DEPRECATION_MSG, FutureWarning)\n"
     ]
    }
   ],
   "source": [
    "model_dataset = SingleTablePreset(metadata=metadata_dataset, name='FAST_ML')\n",
    "model_dataset.fit(expandedwithGAN_dataset)"
   ]
  },
  {
   "cell_type": "code",
   "execution_count": 9,
   "id": "c1c648ae-9cf2-4777-b900-9776fb62f2ca",
   "metadata": {},
   "outputs": [
    {
     "name": "stderr",
     "output_type": "stream",
     "text": [
      "D:\\Downloads\\Anaconda\\Lib\\site-packages\\sdv\\lite\\single_table.py:109: FutureWarning: The 'SingleTablePreset' is deprecated. For equivalent Fast ML functionality, please use the 'GaussianCopulaSynthesizer'.\n",
      "  warnings.warn(DEPRECATION_MSG, FutureWarning)\n"
     ]
    }
   ],
   "source": [
    "synthetic_dataset = model_dataset.sample(200)\n",
    "synthetic_dataset['synthetic'] = 1\n",
    "expandedwithGAN_dataset['synthetic'] = 0"
   ]
  },
  {
   "cell_type": "code",
   "execution_count": 10,
   "id": "65088bda-6e26-401c-85dd-f57be6859029",
   "metadata": {},
   "outputs": [],
   "source": [
    "combinedwithGAN_dataset = pd.concat([expandedwithGAN_dataset, synthetic_dataset], ignore_index=True)"
   ]
  },
  {
   "cell_type": "code",
   "execution_count": 11,
   "id": "a3b319a0-5e11-4c56-9159-ae4c4011f3aa",
   "metadata": {},
   "outputs": [
    {
     "name": "stdout",
     "output_type": "stream",
     "text": [
      "✅ Synthetic data generated using SDV and merged with real data. Saved as 'Expanded_ST_R_With_GAN.xlsx'\n"
     ]
    }
   ],
   "source": [
    "combinedwithGAN_dataset.to_excel(\"Expanded_ST_R_With_GAN.xlsx\", index=False)\n",
    "\n",
    "print(\"✅ Synthetic data generated using SDV and merged with real data. Saved as 'Expanded_ST_R_With_GAN.xlsx'\")"
   ]
  },
  {
   "cell_type": "code",
   "execution_count": 12,
   "id": "7b6c828f",
   "metadata": {},
   "outputs": [],
   "source": [
    "import seaborn as sns\n",
    "import matplotlib.pyplot as plt"
   ]
  },
  {
   "cell_type": "code",
   "execution_count": 13,
   "id": "d5ffd9e0",
   "metadata": {},
   "outputs": [
    {
     "data": {
      "image/png": "[encoded data removed]",
      "text/plain": [
       "<Figure size 640x480 with 1 Axes>"
      ]
     },
     "metadata": {},
     "output_type": "display_data"
    }
   ],
   "source": [
    "sns.countplot(data=combinedwithGAN_dataset, x='expiry_loss_flag')\n",
    "plt.title(\"Class Distribution of Expiry Loss Flag\")\n",
    "plt.xlabel(\"Expiry Loss (0 = No Loss, 1 = Loss)\")\n",
    "plt.ylabel(\"Count\")\n",
    "plt.grid(True, axis='y', linestyle='--', alpha=0.6)\n",
    "plt.tight_layout()\n",
    "plt.show()"
   ]
  }
 ],
 "metadata": {
  "kernelspec": {
   "display_name": "Python 3 (ipykernel)",
   "language": "python",
   "name": "python3"
  },
  "language_info": {
   "codemirror_mode": {
    "name": "ipython",
    "version": 3
   },
   "file_extension": ".py",
   "mimetype": "text/x-python",
   "name": "python",
   "nbconvert_exporter": "python",
   "pygments_lexer": "ipython3",
   "version": "3.13.5"
  }
 },
 "nbformat": 4,
 "nbformat_minor": 5
}

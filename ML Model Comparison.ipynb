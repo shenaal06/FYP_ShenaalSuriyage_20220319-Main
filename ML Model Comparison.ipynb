{
 "cells": [
  {
   "cell_type": "code",
   "execution_count": 1,
   "id": "9c254dfb",
   "metadata": {},
   "outputs": [],
   "source": [
    "import pandas as pd\n",
    "import numpy as np\n",
    "from sklearn.preprocessing import StandardScaler\n",
    "from sklearn.decomposition import PCA\n",
    "from sklearn.cluster import KMeans, DBSCAN, AgglomerativeClustering\n",
    "from sklearn.metrics import silhouette_score, davies_bouldin_score"
   ]
  },
  {
   "cell_type": "code",
   "execution_count": 11,
   "id": "fc67a53f",
   "metadata": {},
   "outputs": [],
   "source": [
    "unsupervisedmodels_comparison = pd.read_excel(\"Expanded_ST_R_With_GAN.xlsx\")"
   ]
  },
  {
   "cell_type": "code",
   "execution_count": 12,
   "id": "1479dc47-5a6d-494b-b67a-19ae587d2de1",
   "metadata": {},
   "outputs": [],
   "source": [
    "X = unsupervisedmodels_comparison.drop(columns=['months_until_stockout'], errors='ignore')"
   ]
  },
  {
   "cell_type": "code",
   "execution_count": 13,
   "id": "4bbe8624-52bf-4aa4-b220-f877b75b6fb7",
   "metadata": {},
   "outputs": [],
   "source": [
    "X = X.select_dtypes(include=[np.number])"
   ]
  },
  {
   "cell_type": "code",
   "execution_count": 14,
   "id": "08d26072-7075-4baa-8640-627a05910e7a",
   "metadata": {},
   "outputs": [],
   "source": [
    "scaler = StandardScaler()\n",
    "X_scaled = scaler.fit_transform(X)"
   ]
  },
  {
   "cell_type": "code",
   "execution_count": 15,
   "id": "33ccd13e-070a-4c01-9415-88207aed72fa",
   "metadata": {},
   "outputs": [],
   "source": [
    "models = {\n",
    "    'KMeans (k=3)': KMeans(n_clusters=3, random_state=42),\n",
    "    'Agglomerative Clustering': AgglomerativeClustering(n_clusters=3),\n",
    "    'DBSCAN': DBSCAN(eps=0.5, min_samples=5)\n",
    "}"
   ]
  },
  {
   "cell_type": "code",
   "execution_count": 16,
   "id": "7088b5ea-49de-4140-911b-39eac2e56ce4",
   "metadata": {},
   "outputs": [
    {
     "name": "stderr",
     "output_type": "stream",
     "text": [
      "D:\\Downloads\\Anaconda\\Lib\\site-packages\\sklearn\\cluster\\_kmeans.py:1419: UserWarning: KMeans is known to have a memory leak on Windows with MKL, when there are less chunks than available threads. You can avoid it by setting the environment variable OMP_NUM_THREADS=2.\n",
      "  warnings.warn(\n"
     ]
    }
   ],
   "source": [
    "results = []\n",
    "for name, model in models.items():\n",
    "    try:\n",
    "        labels = model.fit_predict(X_scaled)\n",
    "        if len(set(labels)) > 1 and len(set(labels)) < len(X):  \n",
    "            silhouette = silhouette_score(X_scaled, labels)\n",
    "            dbi = davies_bouldin_score(X_scaled, labels)\n",
    "        else:\n",
    "            silhouette = -1  \n",
    "            dbi = np.inf\n",
    "    except Exception as e:\n",
    "        silhouette = -1\n",
    "        dbi = np.inf\n",
    "    \n",
    "    results.append({\n",
    "        'Model': name,\n",
    "        'Silhouette Score': silhouette,\n",
    "        'Davies-Bouldin Index': dbi\n",
    "    })"
   ]
  },
  {
   "cell_type": "code",
   "execution_count": 17,
   "id": "9c3db18e-f047-4a12-a6dd-9b30e0e2df3f",
   "metadata": {},
   "outputs": [
    {
     "name": "stdout",
     "output_type": "stream",
     "text": [
      "\n",
      "📊 Unsupervised Model Comparison (Higher Silhouette, Lower DBI is Better):\n",
      "                      Model  Silhouette Score  Davies-Bouldin Index\n",
      "0              KMeans (k=3)          0.143395              1.677539\n",
      "1  Agglomerative Clustering          0.128226              2.115917\n",
      "2                    DBSCAN         -1.000000                   inf\n",
      "\n",
      "✅ Top 2 Recommended Unsupervised Models:\n",
      "   KMeans (k=3) → Silhouette: 0.143 | DBI: 1.678\n",
      "   Agglomerative Clustering → Silhouette: 0.128 | DBI: 2.116\n"
     ]
    }
   ],
   "source": [
    "unsupervisedmodel_results = pd.DataFrame(results).sort_values(by='Silhouette Score', ascending=False)\n",
    "\n",
    "print(\"\\n📊 Unsupervised Model Comparison (Higher Silhouette, Lower DBI is Better):\")\n",
    "print(unsupervisedmodel_results)\n",
    "\n",
    "top_2 = unsupervisedmodel_results.head(2)\n",
    "print(f\"\\n✅ Top 2 Recommended Unsupervised Models:\")\n",
    "for i, row in top_2.iterrows():\n",
    "    print(f\"   {row['Model']} → Silhouette: {row['Silhouette Score']:.3f} | DBI: {row['Davies-Bouldin Index']:.3f}\")"
   ]
  },
  {
   "cell_type": "code",
   "execution_count": 3,
   "id": "fff4c1b6-f285-4d58-a3c7-eada27e5c66e",
   "metadata": {},
   "outputs": [],
   "source": [
    "from sklearn.utils import resample\n",
    "from sklearn.linear_model import LogisticRegression\n",
    "from sklearn.tree import DecisionTreeClassifier\n",
    "from sklearn.ensemble import RandomForestClassifier, GradientBoostingClassifier\n",
    "from sklearn.metrics import accuracy_score, precision_score, recall_score, f1_score"
   ]
  },
  {
   "cell_type": "code",
   "execution_count": 18,
   "id": "936d92e2",
   "metadata": {},
   "outputs": [],
   "source": [
    "risk_model_df = pd.read_excel(\"Expanded_ST_R_With_GAN.xlsx\")"
   ]
  },
  {
   "cell_type": "code",
   "execution_count": 19,
   "id": "d668bf6c-c259-41e0-abbf-4934dbc7160c",
   "metadata": {},
   "outputs": [],
   "source": [
    "num_risk_samples = 100\n",
    "safe_samples = risk_model_df[risk_model_df['Left Stock'] >= risk_model_df['Safety Stock']]"
   ]
  },
  {
   "cell_type": "code",
   "execution_count": 20,
   "id": "8152bfcb-2f49-43d8-bfb0-06eeca93f515",
   "metadata": {},
   "outputs": [],
   "source": [
    "if len(safe_samples) < num_risk_samples:\n",
    "    synthetic_base = resample(safe_samples, n_samples=num_risk_samples, replace=True, random_state=42)\n",
    "else:\n",
    "    synthetic_base = safe_samples.sample(n=num_risk_samples, random_state=42)"
   ]
  },
  {
   "cell_type": "code",
   "execution_count": 21,
   "id": "5ff54fa7-bf01-417e-a54b-c61493035256",
   "metadata": {},
   "outputs": [],
   "source": [
    "synthetic_risk_samples = synthetic_base.copy()\n",
    "synthetic_risk_samples['Left Stock'] = synthetic_risk_samples['Safety Stock'] * 0.5\n",
    "synthetic_risk_samples['Stock_Risk_Flag'] = 1"
   ]
  },
  {
   "cell_type": "code",
   "execution_count": 22,
   "id": "8364297d-a8f8-4414-bd9a-136403f819ea",
   "metadata": {},
   "outputs": [
    {
     "name": "stdout",
     "output_type": "stream",
     "text": [
      "Updated class distribution:\n",
      "Stock_Risk_Flag\n",
      "0    297\n",
      "1    100\n",
      "Name: count, dtype: int64\n"
     ]
    }
   ],
   "source": [
    "risk_model_df = pd.concat([risk_model_df, synthetic_risk_samples], ignore_index=True)\n",
    "\n",
    "print(\"Updated class distribution:\")\n",
    "print(risk_model_df['Stock_Risk_Flag'].value_counts())"
   ]
  },
  {
   "cell_type": "code",
   "execution_count": 23,
   "id": "36d505ab-c3b6-4c5e-ab4e-5a15c4b9ffb9",
   "metadata": {},
   "outputs": [],
   "source": [
    "X = risk_model_df.drop(columns=['Stock_Risk_Flag'])\n",
    "y = risk_model_df['Stock_Risk_Flag']\n",
    "X = X.select_dtypes(include=[np.number])  # use only numeric columns"
   ]
  },
  {
   "cell_type": "code",
   "execution_count": 24,
   "id": "eeffdf13-984e-4563-9fd8-a2eaff354ba9",
   "metadata": {},
   "outputs": [],
   "source": [
    "X_train, X_test, y_train, y_test = train_test_split(\n",
    "    X, y, test_size=0.2, random_state=42, stratify=y\n",
    ")"
   ]
  },
  {
   "cell_type": "code",
   "execution_count": 25,
   "id": "3420cc6c-d952-4643-b629-667217bc1b8f",
   "metadata": {},
   "outputs": [],
   "source": [
    "scaler = StandardScaler()\n",
    "X_train_scaled = scaler.fit_transform(X_train)\n",
    "X_test_scaled = scaler.transform(X_test)"
   ]
  },
  {
   "cell_type": "code",
   "execution_count": 26,
   "id": "22036b7b-a939-4a78-a9e6-275765d9cf64",
   "metadata": {},
   "outputs": [],
   "source": [
    "models = {\n",
    "    'Logistic Regression': LogisticRegression(max_iter=1000),\n",
    "    'Decision Tree': DecisionTreeClassifier(),\n",
    "    'Random Forest': RandomForestClassifier(),\n",
    "    'Gradient Boosting': GradientBoostingClassifier()\n",
    "}"
   ]
  },
  {
   "cell_type": "code",
   "execution_count": 27,
   "id": "22f3ecdb-90d7-479f-ae46-df2228a22d93",
   "metadata": {},
   "outputs": [],
   "source": [
    "results = []\n",
    "for name, model in models.items():\n",
    "    model.fit(X_train_scaled, y_train)\n",
    "    y_pred = model.predict(X_test_scaled)\n",
    "    results.append({\n",
    "        'Model': name,\n",
    "        'Accuracy': accuracy_score(y_test, y_pred),\n",
    "        'Precision': precision_score(y_test, y_pred, zero_division=0),\n",
    "        'Recall': recall_score(y_test, y_pred, zero_division=0),\n",
    "        'F1 Score': f1_score(y_test, y_pred, zero_division=0)\n",
    "    })"
   ]
  },
  {
   "cell_type": "code",
   "execution_count": 28,
   "id": "f5314f1a-b411-4efc-94cf-ccbfab658d1d",
   "metadata": {},
   "outputs": [
    {
     "name": "stdout",
     "output_type": "stream",
     "text": [
      "\n",
      "📊 Supervised Learning Model Performance Comparison:\n",
      "                 Model  Accuracy  Precision  Recall  F1 Score\n",
      "3    Gradient Boosting     0.875   0.916667    0.55  0.687500\n",
      "1        Decision Tree     0.825   0.687500    0.55  0.611111\n",
      "0  Logistic Regression     0.825   1.000000    0.30  0.461538\n",
      "2        Random Forest     0.750   0.500000    0.15  0.230769\n",
      "\n",
      "✅ Top Recommended Classification Model:\n",
      "   Gradient Boosting → Accuracy: 0.88 | Precision: 0.92 | Recall: 0.55 | F1 Score: 0.69\n"
     ]
    }
   ],
   "source": [
    "model_performance_df = pd.DataFrame(results).sort_values(by='F1 Score', ascending=False)\n",
    "\n",
    "print(\"\\n📊 Supervised Learning Model Performance Comparison:\")\n",
    "print(model_performance_df)\n",
    "\n",
    "top_model = model_performance_df.iloc[0]\n",
    "print(f\"\\n✅ Top Recommended Classification Model:\")\n",
    "print(f\"   {top_model['Model']} → Accuracy: {top_model['Accuracy']:.2f} | Precision: {top_model['Precision']:.2f} | Recall: {top_model['Recall']:.2f} | F1 Score: {top_model['F1 Score']:.2f}\")"
   ]
  },
  {
   "cell_type": "code",
   "execution_count": 29,
   "id": "986bbdf4-bae4-4179-8e7d-40dbf256accd",
   "metadata": {},
   "outputs": [],
   "source": [
    "from sklearn.metrics import accuracy_score, precision_score, recall_score, f1_score\n",
    "from sklearn.linear_model import LogisticRegression\n",
    "from sklearn.tree import DecisionTreeClassifier\n",
    "from sklearn.ensemble import RandomForestClassifier, GradientBoostingClassifier"
   ]
  },
  {
   "cell_type": "code",
   "execution_count": 30,
   "id": "afe0e8f3-fd30-417f-b590-ad446d26abec",
   "metadata": {},
   "outputs": [],
   "source": [
    "expiry_loss_df = pd.read_excel(\"Expanded_ST_R_With_GAN.xlsx\")"
   ]
  },
  {
   "cell_type": "code",
   "execution_count": 35,
   "id": "17a3012e-e834-497f-a307-66b06b57be94",
   "metadata": {},
   "outputs": [],
   "source": [
    "target_col = 'expiry_loss_flag'\n",
    "drop_cols = [target_col, 'Opportunity lost from expired drugs', 'Drug_Name_Label', 'Category_Expired']"
   ]
  },
  {
   "cell_type": "code",
   "execution_count": 36,
   "id": "9f58cdf9-6c9a-475b-881a-8c21336d7e67",
   "metadata": {},
   "outputs": [],
   "source": [
    "X = expiry_loss_df.drop(columns=drop_cols, errors='ignore').dropna()\n",
    "y = expiry_loss_df.loc[X.index, target_col]"
   ]
  },
  {
   "cell_type": "code",
   "execution_count": 37,
   "id": "0008f3bb-502e-4b26-bfbb-42291b72a3e7",
   "metadata": {},
   "outputs": [],
   "source": [
    "X_train, X_test, y_train, y_test = train_test_split(X, y, stratify=y, random_state=42)"
   ]
  },
  {
   "cell_type": "code",
   "execution_count": 38,
   "id": "5fbd795f-55ce-4593-b579-9e2d16a290ff",
   "metadata": {},
   "outputs": [],
   "source": [
    "models = {\n",
    "    \"Logistic Regression\": LogisticRegression(max_iter=1000),\n",
    "    \"Decision Tree\": DecisionTreeClassifier(),\n",
    "    \"Random Forest\": RandomForestClassifier(),\n",
    "    \"Gradient Boosting\": GradientBoostingClassifier()\n",
    "}"
   ]
  },
  {
   "cell_type": "code",
   "execution_count": 39,
   "id": "fbf16e42-9131-4aa7-b403-ff173b47c173",
   "metadata": {},
   "outputs": [
    {
     "name": "stderr",
     "output_type": "stream",
     "text": [
      "D:\\Downloads\\Anaconda\\Lib\\site-packages\\sklearn\\linear_model\\_logistic.py:465: ConvergenceWarning: lbfgs failed to converge (status=1):\n",
      "STOP: TOTAL NO. OF ITERATIONS REACHED LIMIT.\n",
      "\n",
      "Increase the number of iterations (max_iter) or scale the data as shown in:\n",
      "    https://scikit-learn.org/stable/modules/preprocessing.html\n",
      "Please also refer to the documentation for alternative solver options:\n",
      "    https://scikit-learn.org/stable/modules/linear_model.html#logistic-regression\n",
      "  n_iter_i = _check_optimize_result(\n"
     ]
    }
   ],
   "source": [
    "results = []\n",
    "\n",
    "for name, model in models.items():\n",
    "    model.fit(X_train, y_train)\n",
    "    y_pred = model.predict(X_test)\n",
    "\n",
    "    results.append({\n",
    "        \"Model\": name,\n",
    "        \"Accuracy\": round(accuracy_score(y_test, y_pred), 4),\n",
    "        \"Precision\": round(precision_score(y_test, y_pred, zero_division=0), 6),\n",
    "        \"Recall\": round(recall_score(y_test, y_pred, zero_division=0), 2),\n",
    "        \"F1 Score\": round(f1_score(y_test, y_pred, zero_division=0), 6)\n",
    "    })"
   ]
  },
  {
   "cell_type": "code",
   "execution_count": 57,
   "id": "89b8dd36-5d31-4afc-ab0f-ff331598607c",
   "metadata": {},
   "outputs": [
    {
     "name": "stdout",
     "output_type": "stream",
     "text": [
      "\n",
      "📊 Supervised Learning Model Performance Comparison:\n",
      "                 Model  Accuracy  Precision  Recall  F1 Score\n",
      "0        Random Forest      0.80      0.844    0.73     0.783\n",
      "1    Gradient Boosting      0.76      0.771    0.73     0.750\n",
      "2  Logistic Regression      0.76      0.788    0.70     0.743\n",
      "3        Decision Tree      0.72      0.700    0.76     0.727\n",
      "\n",
      "✅ Top Recommended Classification Model:\n",
      "   Random Forest → Accuracy: 0.800 | Precision: 0.844 | Recall: 0.730 | F1 Score: 0.783\n"
     ]
    }
   ],
   "source": [
    "results_df = pd.DataFrame(results).sort_values(by=\"F1 Score\", ascending=False).reset_index(drop=True)\n",
    "\n",
    "display_df = results_df.copy()\n",
    "display_df[['Accuracy', 'Precision', 'Recall', 'F1 Score']] = display_df[['Accuracy', 'Precision', 'Recall', 'F1 Score']].round(3)\n",
    "\n",
    "print(\"\\n📊 Supervised Learning Model Performance Comparison:\")\n",
    "print(display_df.to_string(index=True))\n",
    "\n",
    "top_model = display_df.iloc[0]\n",
    "print(\"\\n✅ Top Recommended Classification Model:\")\n",
    "print(f\"   {top_model['Model']} → Accuracy: {top_model['Accuracy']:.3f} | \"\n",
    "      f\"Precision: {top_model['Precision']:.3f} | Recall: {top_model['Recall']:.3f} | \"\n",
    "      f\"F1 Score: {top_model['F1 Score']:.3f}\")"
   ]
  },
  {
   "cell_type": "code",
   "execution_count": 41,
   "id": "9371c059-e114-4dd8-8d87-8dc24abfcd9e",
   "metadata": {},
   "outputs": [],
   "source": [
    "from sklearn.metrics import mean_absolute_error, mean_squared_error, r2_score\n",
    "from sklearn.linear_model import LinearRegression\n",
    "from sklearn.tree import DecisionTreeRegressor\n",
    "from sklearn.ensemble import RandomForestRegressor, GradientBoostingRegressor"
   ]
  },
  {
   "cell_type": "code",
   "execution_count": 42,
   "id": "7532d074-bec7-42ff-8f03-a9c403fcba9d",
   "metadata": {},
   "outputs": [],
   "source": [
    "regression_data = pd.read_excel(\"Expanded_ST_R_With_GAN.xlsx\")"
   ]
  },
  {
   "cell_type": "code",
   "execution_count": 43,
   "id": "3afdf28e-93bf-423d-b3a4-bdc8687b2078",
   "metadata": {},
   "outputs": [],
   "source": [
    "X = regression_data.drop(columns=['expiry_loss_flag'])\n",
    "y = regression_data['expiry_loss_flag']"
   ]
  },
  {
   "cell_type": "code",
   "execution_count": 44,
   "id": "79b08d05-5b64-4c14-92f5-ee31313d9f29",
   "metadata": {},
   "outputs": [],
   "source": [
    "X = X.select_dtypes(include=[np.number])"
   ]
  },
  {
   "cell_type": "code",
   "execution_count": 45,
   "id": "4aae6fc6-1d3a-470c-ac19-7325761146df",
   "metadata": {},
   "outputs": [],
   "source": [
    "X_train, X_test, y_train, y_test = train_test_split(X, y, test_size=0.2, random_state=42)"
   ]
  },
  {
   "cell_type": "code",
   "execution_count": 46,
   "id": "5435b46c-e33b-42ae-b358-0fc735a3f836",
   "metadata": {},
   "outputs": [],
   "source": [
    "scaler = StandardScaler()\n",
    "X_train_scaled = scaler.fit_transform(X_train)\n",
    "X_test_scaled = scaler.transform(X_test)"
   ]
  },
  {
   "cell_type": "code",
   "execution_count": 47,
   "id": "2ac35ead-9e4d-4497-82c4-bb1a88890dfb",
   "metadata": {},
   "outputs": [],
   "source": [
    "regression_models = {\n",
    "    'Linear Regression': LinearRegression(),\n",
    "    'Decision Tree Regressor': DecisionTreeRegressor(),\n",
    "    'Random Forest Regressor': RandomForestRegressor(),\n",
    "    'Gradient Boosting Regressor': GradientBoostingRegressor()\n",
    "}"
   ]
  },
  {
   "cell_type": "code",
   "execution_count": 48,
   "id": "fe8dec48-762e-49b3-b145-d783780a9743",
   "metadata": {},
   "outputs": [],
   "source": [
    "regression_results = []\n",
    "for name, model in regression_models.items():\n",
    "    model.fit(X_train_scaled, y_train)\n",
    "    y_pred = model.predict(X_test_scaled)\n",
    "    regression_results.append({\n",
    "        'Model': name,\n",
    "        'MAE': mean_absolute_error(y_test, y_pred),\n",
    "        'MSE': mean_squared_error(y_test, y_pred),\n",
    "        'RMSE': np.sqrt(mean_squared_error(y_test, y_pred)),\n",
    "        'R2 Score': r2_score(y_test, y_pred)\n",
    "    })"
   ]
  },
  {
   "cell_type": "code",
   "execution_count": 56,
   "id": "917c8827-1f3c-4d70-9b85-d5d4f68e6c79",
   "metadata": {},
   "outputs": [
    {
     "name": "stdout",
     "output_type": "stream",
     "text": [
      "\n",
      "📈 Supervised Regression Model Performance Comparison:\n",
      "                         Model    MAE    MSE   RMSE  R2 Score\n",
      "0      Random Forest Regressor  0.218  0.095  0.309     0.612\n",
      "1  Gradient Boosting Regressor  0.224  0.113  0.336     0.542\n",
      "2            Linear Regression  0.261  0.140  0.374     0.431\n",
      "3      Decision Tree Regressor  0.183  0.183  0.428     0.253\n",
      "\n",
      "✅ Top Recommended Regression Model:\n",
      "   Random Forest Regressor → R²: 0.612 | MAE: 0.218 | RMSE: 0.309\n"
     ]
    }
   ],
   "source": [
    "regression_results_df = pd.DataFrame(regression_results).sort_values(by='R2 Score', ascending=False).reset_index(drop=True)\n",
    "\n",
    "display_df = regression_results_df.copy()\n",
    "display_df[['MAE', 'MSE', 'RMSE', 'R2 Score']] = display_df[['MAE', 'MSE', 'RMSE', 'R2 Score']].round(3)\n",
    "\n",
    "print(\"\\n📈 Supervised Regression Model Performance Comparison:\")\n",
    "print(display_df.to_string(index=True))\n",
    "\n",
    "top_regressor = display_df.iloc[0]\n",
    "print(f\"\\n✅ Top Recommended Regression Model:\")\n",
    "print(f\"   {top_regressor['Model']} → R²: {top_regressor['R2 Score']:.3f} | MAE: {top_regressor['MAE']:.3f} | RMSE: {top_regressor['RMSE']:.3f}\")"
   ]
  },
  {
   "cell_type": "code",
   "execution_count": null,
   "id": "a179f4b0-4129-4da8-9a22-4345692b646f",
   "metadata": {},
   "outputs": [],
   "source": []
  }
 ],
 "metadata": {
  "kernelspec": {
   "display_name": "Python 3 (ipykernel)",
   "language": "python",
   "name": "python3"
  },
  "language_info": {
   "codemirror_mode": {
    "name": "ipython",
    "version": 3
   },
   "file_extension": ".py",
   "mimetype": "text/x-python",
   "name": "python",
   "nbconvert_exporter": "python",
   "pygments_lexer": "ipython3",
   "version": "3.13.5"
  }
 },
 "nbformat": 4,
 "nbformat_minor": 5
}

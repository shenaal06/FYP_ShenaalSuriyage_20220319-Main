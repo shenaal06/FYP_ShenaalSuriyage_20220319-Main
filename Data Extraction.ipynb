{
 "cells": [
  {
   "cell_type": "code",
   "execution_count": 1,
   "id": "21fe4d53",
   "metadata": {},
   "outputs": [],
   "source": [
    "import pandas as pd"
   ]
  },
  {
   "cell_type": "code",
   "execution_count": 2,
   "id": "31d5df55",
   "metadata": {},
   "outputs": [],
   "source": [
    "file_path = \"C:/Users/User/Pharmaceutical_Inventory_FYP/Dataset/Manual Calculation of Pharmaceutical Inventory Logistic 3.xlsx\"\n",
    "xls = pd.ExcelFile(file_path)"
   ]
  },
  {
   "cell_type": "code",
   "execution_count": 3,
   "id": "e84cea21-fffb-4c18-988a-daaf6f9c219e",
   "metadata": {},
   "outputs": [],
   "source": [
    "extracted_dataset = pd.read_excel(xls, sheet_name='OL ST R', skiprows=3)"
   ]
  },
  {
   "cell_type": "code",
   "execution_count": 4,
   "id": "bd910a85-8be6-4681-ae30-1f8d8730e7a7",
   "metadata": {},
   "outputs": [],
   "source": [
    "extracted_dataset.dropna(axis=1, how='all', inplace=True)"
   ]
  },
  {
   "cell_type": "code",
   "execution_count": 5,
   "id": "7f7b8231-21c8-4d31-809a-1ba95956a1a9",
   "metadata": {},
   "outputs": [],
   "source": [
    "for col in extracted_dataset.columns:\n",
    "    if 'name' in str(col).lower():\n",
    "        drug_name_col = col\n",
    "        break"
   ]
  },
  {
   "cell_type": "code",
   "execution_count": 6,
   "id": "9cb9e69a-337f-41ea-99c7-41ac6297f5ba",
   "metadata": {},
   "outputs": [],
   "source": [
    "extracted_dataset = extracted_dataset[extracted_dataset[drug_name_col].notna()]"
   ]
  },
  {
   "cell_type": "code",
   "execution_count": 7,
   "id": "9c794d3c-e9b3-4349-8260-d5c79cd37716",
   "metadata": {},
   "outputs": [],
   "source": [
    "if str(extracted_dataset.iloc[0, 0]).strip().lower() in ['no', '1']:\n",
    "    extracted_dataset.columns = extracted_dataset.iloc[0]\n",
    "    extracted_dataset = extracted_dataset[1:]"
   ]
  },
  {
   "cell_type": "code",
   "execution_count": 8,
   "id": "10e6f6e3-97f6-4cf0-9fb4-ae737725663c",
   "metadata": {},
   "outputs": [],
   "source": [
    "extracted_dataset['Safety Stock'] = pd.to_numeric(extracted_dataset['Safety Stock'], errors='coerce')"
   ]
  },
  {
   "cell_type": "code",
   "execution_count": 9,
   "id": "4a606638-c4c8-4c10-99b3-cc2e066b4854",
   "metadata": {},
   "outputs": [],
   "source": [
    "extracted_dataset.reset_index(drop=True, inplace=True)"
   ]
  },
  {
   "cell_type": "code",
   "execution_count": 10,
   "id": "3087e5fc-c2f2-4155-8fbb-64124bf33316",
   "metadata": {},
   "outputs": [
    {
     "name": "stdout",
     "output_type": "stream",
     "text": [
      "Extracted sheet saved as: OL_ST_R_Sheet_Extraction.xlsx\n"
     ]
    }
   ],
   "source": [
    "output_file = \"OL_ST_R_Sheet_Extraction.xlsx\"\n",
    "extracted_dataset.to_excel(output_file, index=False)\n",
    "print(f\"Extracted sheet saved as: {output_file}\")"
   ]
  }
 ],
 "metadata": {
  "kernelspec": {
   "display_name": "Python 3 (ipykernel)",
   "language": "python",
   "name": "python3"
  },
  "language_info": {
   "codemirror_mode": {
    "name": "ipython",
    "version": 3
   },
   "file_extension": ".py",
   "mimetype": "text/x-python",
   "name": "python",
   "nbconvert_exporter": "python",
   "pygments_lexer": "ipython3",
   "version": "3.13.5"
  }
 },
 "nbformat": 4,
 "nbformat_minor": 5
}
